{
 "cells": [
  {
   "cell_type": "code",
   "execution_count": 16,
   "metadata": {},
   "outputs": [],
   "source": [
    "from_user = 'frencha806@gmail.com'\n",
    "password = 'Goal@2022'\n",
    "to_user = 'bhagyalakshmivedula@gmail.com'\n",
    "server = smtplib.SMTP('smtp.gmail.com',587)\n",
    "server.starttls()\n",
    "server.login(from_user, password)\n",
    "subject = 'Hello from chatbox'\n",
    "msg = MIMEMultipart()\n",
    "msg['From'] = from_user\n",
    "msg['TO'] = to_user\n",
    "msg['Subject'] = subject\n",
    "body = ('emailbody')\n",
    "msg.attach(MIMEText(body,'plain'))\n",
    "text = msg.as_string()\n",
    "server.sendmail(from_user,to_user,text)\n",
    "server.close()"
   ]
  },
  {
   "cell_type": "code",
   "execution_count": null,
   "metadata": {},
   "outputs": [],
   "source": [
    "sender_address = 'frencha806@gmail.com'\n",
    "\t\treceiver_address = 'frencha806@gmail.com'\n",
    "\t\tsender_pass  = 'Goal@2022'\n",
    "\t\tmessage = MIMEMultipart()\n",
    "\t\tmessage['From'] = receiver_address\n",
    "\t\tmessage['TO'] = sender_address\n",
    "\t\tmessage['Subject'] = 'Hello Foodie, here is your list of restaurants!'\n",
    "\t\tsession = smtplib.SMTP('smtp.gmail.com',587)\n",
    "\t\tsession.starttls()\n",
    "\t\tsession.login(receiver_address, sender_pass)\n",
    "\t\tbody = tracker.get_slot('emailbody')\n",
    "\t\tmessage.attach(MIMEText(body,'plain'))\n",
    "\t\ttext = message.as_string()\n",
    "\t\tserver.sendmail(receiver_address,sender_address,text)\n",
    "\t\tserver.quit()\n",
    "\t\tprint('Mail Sent')"
   ]
  },
  {
   "cell_type": "code",
   "execution_count": 1,
   "metadata": {},
   "outputs": [],
   "source": [
    "import smtplib\n",
    "from email.mime.text import MIMEText\n",
    "from email.mime.multipart import MIMEMultipart"
   ]
  },
  {
   "cell_type": "code",
   "execution_count": null,
   "metadata": {},
   "outputs": [],
   "source": []
  }
 ],
 "metadata": {
  "kernelspec": {
   "display_name": "Python 3",
   "language": "python",
   "name": "python3"
  },
  "language_info": {
   "codemirror_mode": {
    "name": "ipython",
    "version": 3
   },
   "file_extension": ".py",
   "mimetype": "text/x-python",
   "name": "python",
   "nbconvert_exporter": "python",
   "pygments_lexer": "ipython3",
   "version": "3.8.3"
  }
 },
 "nbformat": 4,
 "nbformat_minor": 4
}
